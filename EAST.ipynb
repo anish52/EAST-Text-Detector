{
 "cells": [
  {
   "cell_type": "code",
   "execution_count": null,
   "metadata": {
    "colab": {},
    "colab_type": "code",
    "id": "zzh3QRqoc7MP"
   },
   "outputs": [],
   "source": [
    "#!unzip '/content/text_detection_2.zip'"
   ]
  },
  {
   "cell_type": "code",
   "execution_count": null,
   "metadata": {
    "colab": {
     "base_uri": "https://localhost:8080/",
     "height": 34
    },
    "colab_type": "code",
    "id": "lUAkEveGckqO",
    "outputId": "268195e6-62cf-4d5c-ee66-4515bc08621f"
   },
   "outputs": [],
   "source": [
    "import numpy as np\n",
    "import pandas as pd\n",
    "import tensorflow as tf\n",
    "import keras\n",
    "import os\n",
    "import matplotlib.pyplot as plt\n",
    "from PIL  import Image\n",
    "import cv2\n",
    "import keras.backend as K\n",
    "from keras import regularizers\n",
    "from keras.layers import Conv2D, concatenate, BatchNormalization, Lambda, Input, multiply, add, ZeroPadding2D, Activation, Layer, MaxPooling2D, Dropout\n",
    "from keras.models import Model\n",
    "from keras.applications.resnet50 import ResNet50\n",
    "from keras.preprocessing.image import ImageDataGenerator"
   ]
  },
  {
   "cell_type": "markdown",
   "metadata": {
    "colab_type": "text",
    "id": "2rtdhM-GckqS"
   },
   "source": [
    "## Data Preprocessing"
   ]
  },
  {
   "cell_type": "code",
   "execution_count": null,
   "metadata": {
    "colab": {},
    "colab_type": "code",
    "id": "bmNTuMdfckqT"
   },
   "outputs": [],
   "source": [
    "img_dir = r'/content/text_detection_2/images'\n",
    "label_dir = r'/content/text_detection_2/ground_truth/gt_'"
   ]
  },
  {
   "cell_type": "code",
   "execution_count": null,
   "metadata": {
    "colab": {
     "base_uri": "https://localhost:8080/",
     "height": 34
    },
    "colab_type": "code",
    "id": "Bk7iZoFdckqV",
    "outputId": "72585379-88d6-4d37-ca52-4abac64ea220"
   },
   "outputs": [],
   "source": [
    "imgs = []\n",
    "\n",
    "for i in range(100,106):\n",
    "    img = np.array(Image.open(img_dir+'/'+str(i)+'.jpg'), dtype=np.uint8)\n",
    "    imgs.append(img)\n",
    "print(len(imgs))"
   ]
  },
  {
   "cell_type": "code",
   "execution_count": null,
   "metadata": {
    "colab": {
     "base_uri": "https://localhost:8080/",
     "height": 286
    },
    "colab_type": "code",
    "id": "FAGWahHNckqY",
    "outputId": "9cc28992-9322-4de5-94d9-380bbc7a4a58"
   },
   "outputs": [],
   "source": [
    "idx_ex = 5 #example index\n",
    "print(imgs[idx_ex].shape)\n",
    "fig,ax = plt.subplots(1)\n",
    "ax.imshow(img)\n",
    "plt.show()"
   ]
  },
  {
   "cell_type": "code",
   "execution_count": null,
   "metadata": {
    "colab": {
     "base_uri": "https://localhost:8080/",
     "height": 34
    },
    "colab_type": "code",
    "id": "851Hr0gFckqb",
    "outputId": "32536869-a7ef-4575-c8e6-32f1340c7339"
   },
   "outputs": [],
   "source": [
    "bbox = []\n",
    "\n",
    "for i in range(100,106):\n",
    "    b = []\n",
    "    with open(label_dir+str(i)+'.txt','r') as reader:\n",
    "        for line in reader:\n",
    "            arr = np.array(line.split()[:-1])\n",
    "            x1,y1,x3,y3 = arr.astype(int)\n",
    "            x2,y2,x4,y4 = x3,y1,x1,y3\n",
    "            b.append([[x1,y1],[x2,y2],[x3,y3],[x4,y4]])\n",
    "        bbox.append(b)\n",
    "print(len(bbox))"
   ]
  },
  {
   "cell_type": "code",
   "execution_count": null,
   "metadata": {
    "colab": {
     "base_uri": "https://localhost:8080/",
     "height": 84
    },
    "colab_type": "code",
    "id": "Nyc2aPk-ckqe",
    "outputId": "651df9af-8451-4db3-8f33-c41efbf7df2a"
   },
   "outputs": [],
   "source": [
    "bbox[idx_ex]"
   ]
  },
  {
   "cell_type": "markdown",
   "metadata": {
    "colab_type": "text",
    "id": "cE0DJmFfckqh"
   },
   "source": [
    "### Cropping the image"
   ]
  },
  {
   "cell_type": "code",
   "execution_count": null,
   "metadata": {
    "colab": {},
    "colab_type": "code",
    "id": "0Wo2zeokckqh"
   },
   "outputs": [],
   "source": [
    "def crop_area(img, polys, max_tries=50):\n",
    "    '''\n",
    "    Cropping out part of the image\n",
    "    Reference: \"https://github.com/kurapan/EAST\"\n",
    "    '''\n",
    "    h, w, _ = img.shape\n",
    "    pad_h = h//10\n",
    "    pad_w = w//10\n",
    "    h_array = np.zeros((h + pad_h*2), dtype=np.int32)\n",
    "    w_array = np.zeros((w + pad_w*2), dtype=np.int32)\n",
    "    for poly in polys:\n",
    "        poly = np.round(poly, decimals=0).astype(np.int32)\n",
    "        minx = np.min(poly[:, 0])\n",
    "        maxx = np.max(poly[:, 0])\n",
    "        w_array[minx+pad_w:maxx+pad_w] = 1\n",
    "        miny = np.min(poly[:, 1])\n",
    "        maxy = np.max(poly[:, 1])\n",
    "        h_array[miny+pad_h:maxy+pad_h] = 1\n",
    "    # ensure the cropped area not across a text\n",
    "    h_axis = np.where(h_array == 0)[0]\n",
    "    w_axis = np.where(w_array == 0)[0]\n",
    "    if len(h_axis) == 0 or len(w_axis) == 0:\n",
    "        return img, polys\n",
    "    for i in range(max_tries):\n",
    "        xx = np.random.choice(w_axis, size=2)\n",
    "        xmin = np.min(xx) - pad_w\n",
    "        xmax = np.max(xx) - pad_w\n",
    "        xmin = np.clip(xmin, 0, w-1)\n",
    "        xmax = np.clip(xmax, 0, w-1)\n",
    "        yy = np.random.choice(h_axis, size=2)\n",
    "        ymin = np.min(yy) - pad_h\n",
    "        ymax = np.max(yy) - pad_h\n",
    "        ymin = np.clip(ymin, 0, h-1)\n",
    "        ymax = np.clip(ymax, 0, h-1)\n",
    "        if polys.shape[0] != 0:\n",
    "            poly_axis_in_area = (polys[:, :, 0] >= xmin) & (polys[:, :, 0] <= xmax) \\\n",
    "                                & (polys[:, :, 1] >= ymin) & (polys[:, :, 1] <= ymax)\n",
    "            selected_polys = np.where(np.sum(poly_axis_in_area, axis=1) == 4)[0]\n",
    "        else:\n",
    "            selected_polys = []\n",
    "        if len(selected_polys) == 0:\n",
    "            # no text in this area\n",
    "            continue\n",
    "        img = img[ymin:ymax+1, xmin:xmax+1, :]\n",
    "        polys = polys[selected_polys]\n",
    "        polys[:, :, 0] -= xmin\n",
    "        polys[:, :, 1] -= ymin\n",
    "        return img, polys"
   ]
  },
  {
   "cell_type": "markdown",
   "metadata": {
    "colab_type": "text",
    "id": "MHzKWbLnckqj"
   },
   "source": [
    "### Padding the image "
   ]
  },
  {
   "cell_type": "code",
   "execution_count": null,
   "metadata": {
    "colab": {},
    "colab_type": "code",
    "id": "NuVBdkchckqk"
   },
   "outputs": [],
   "source": [
    "def pad_image(img, input_size):\n",
    "    \n",
    "    new_h, new_w, _ = img.shape\n",
    "    max_h_w_i = np.max([new_h, new_w, input_size])\n",
    "    img_padded = np.zeros((max_h_w_i, max_h_w_i, 3), dtype=np.uint8)\n",
    "    \n",
    "    shift_h = np.random.randint(max_h_w_i - new_h + 1)\n",
    "    shift_w = np.random.randint(max_h_w_i - new_w + 1)\n",
    "    \n",
    "    img_padded[shift_h:new_h+shift_h, shift_w:new_w+shift_w, :] = img.copy()\n",
    "    img = img_padded\n",
    "    \n",
    "    return img, shift_h, shift_w"
   ]
  },
  {
   "cell_type": "markdown",
   "metadata": {
    "colab_type": "text",
    "id": "Pf6iGgyXckqm"
   },
   "source": [
    "### Resizing the image"
   ]
  },
  {
   "cell_type": "code",
   "execution_count": null,
   "metadata": {
    "colab": {},
    "colab_type": "code",
    "id": "SoucomCxckqn"
   },
   "outputs": [],
   "source": [
    "def resize_image(img, text_polys, input_size, shift_h, shift_w):\n",
    "    \n",
    "    new_h, new_w, _ = img.shape\n",
    "    img = cv2.resize(img, dsize=(input_size, input_size))\n",
    "    \n",
    "    # pad and resize text polygons\n",
    "    resize_ratio_x = (int)(input_size/new_w)\n",
    "    resize_ratio_y = (int)(input_size/new_h)\n",
    "    text_polys[:, :, 0] += shift_w\n",
    "    text_polys[:, :, 1] += shift_h\n",
    "    text_polys[:, :, 0] *= resize_ratio_x\n",
    "    text_polys[:, :, 1] *= resize_ratio_y\n",
    "    \n",
    "    return img, text_polys"
   ]
  },
  {
   "cell_type": "markdown",
   "metadata": {
    "colab_type": "text",
    "id": "XD3Ggphpckqp"
   },
   "source": [
    "### Rescaling the image"
   ]
  },
  {
   "cell_type": "code",
   "execution_count": null,
   "metadata": {
    "colab": {},
    "colab_type": "code",
    "id": "l9cKzi7lckqq"
   },
   "outputs": [],
   "source": [
    "def rescale_image(img):\n",
    "    \n",
    "    img = (img / 127.5) - 1.\n",
    "    return img"
   ]
  },
  {
   "cell_type": "markdown",
   "metadata": {
    "colab_type": "text",
    "id": "3uZMUHMYckqs"
   },
   "source": [
    "### Preparing labels"
   ]
  },
  {
   "cell_type": "code",
   "execution_count": null,
   "metadata": {
    "colab": {},
    "colab_type": "code",
    "id": "feJ7RlQnckqs"
   },
   "outputs": [],
   "source": [
    "def labels(img, polys):\n",
    "    \n",
    "    l = np.zeros((img.shape[0],img.shape[1],1), dtype=np.int8)\n",
    "\n",
    "    for poly in polys:\n",
    "        x1,y1,x3,y3 = poly[0][0], poly[0][1], poly[2][0], poly[2][1]\n",
    "        l[y1:y3, x1:x3,:] = 1\n",
    "    \n",
    "    l = l[::4, ::4, :]\n",
    "    return l   "
   ]
  },
  {
   "cell_type": "markdown",
   "metadata": {
    "colab_type": "text",
    "id": "Y77cHCBRckqv"
   },
   "source": [
    "## Defining EAST model architecture"
   ]
  },
  {
   "cell_type": "code",
   "execution_count": null,
   "metadata": {
    "colab": {},
    "colab_type": "code",
    "id": "Lkl4lD5wckqv"
   },
   "outputs": [],
   "source": [
    "RESIZE_FACTOR = 2\n",
    "\n",
    "def resize_bilinear(x):\n",
    "    return tf.image.resize_bilinear(x, size=[K.shape(x)[1]*RESIZE_FACTOR, K.shape(x)[2]*RESIZE_FACTOR])"
   ]
  },
  {
   "cell_type": "code",
   "execution_count": null,
   "metadata": {
    "colab": {
     "base_uri": "https://localhost:8080/",
     "height": 322
    },
    "colab_type": "code",
    "id": "aexHxECWckqy",
    "outputId": "00ab8929-be2f-475b-9602-14a227ee7c72"
   },
   "outputs": [],
   "source": [
    "input_image = Input(shape=(None, None,3), name='input_image')\n",
    "resnet = ResNet50(input_tensor=input_image, weights='imagenet', include_top=False, pooling=None)\n",
    "x = resnet.get_layer('activation_49').output\n",
    "\n",
    "x = Lambda(resize_bilinear, name='resize_1')(x)\n",
    "x = concatenate([x, resnet.get_layer('activation_40').output], axis=3)\n",
    "x = Conv2D(128, (1,1), padding='same', kernel_regularizer=regularizers.l2(1e-5))(x)\n",
    "x = BatchNormalization(momentum=0.997, epsilon=1e-5, scale=True)(x)\n",
    "x = Activation('relu')(x)\n",
    "x = Conv2D(128, (3, 3), padding='same', kernel_regularizer=regularizers.l2(1e-5))(x)\n",
    "x = BatchNormalization(momentum=0.997, epsilon=1e-5, scale=True)(x)\n",
    "x = Activation('relu')(x)\n",
    "\n",
    "x = Lambda(resize_bilinear, name='resize_2')(x)\n",
    "x = concatenate([x, resnet.get_layer('activation_22').output], axis=3)\n",
    "x = Conv2D(64, (1, 1), padding='same', kernel_regularizer=regularizers.l2(1e-5))(x)\n",
    "x = BatchNormalization(momentum=0.997, epsilon=1e-5, scale=True)(x)\n",
    "x = Activation('relu')(x)\n",
    "x = Conv2D(64, (3, 3), padding='same', kernel_regularizer=regularizers.l2(1e-5))(x)\n",
    "x = BatchNormalization(momentum=0.997, epsilon=1e-5, scale=True)(x)\n",
    "x = Activation('relu')(x)\n",
    "\n",
    "x = Lambda(resize_bilinear, name='resize_3')(x)\n",
    "x = concatenate([x, resnet.get_layer('activation_10').output], axis=3)\n",
    "x = Conv2D(32, (1, 1), padding='same', kernel_regularizer=regularizers.l2(1e-5))(x)\n",
    "x = BatchNormalization(momentum=0.997, epsilon=1e-5, scale=True)(x)\n",
    "x = Activation('relu')(x)\n",
    "x = Conv2D(32, (3, 3), padding='same', kernel_regularizer=regularizers.l2(1e-5))(x)\n",
    "x = BatchNormalization(momentum=0.997, epsilon=1e-5, scale=True)(x)\n",
    "x = Activation('relu')(x)\n",
    "\n",
    "x = Conv2D(32, (3, 3), padding='same', kernel_regularizer=regularizers.l2(1e-5))(x)\n",
    "x = BatchNormalization(momentum=0.997, epsilon=1e-5, scale=True)(x)\n",
    "x = Activation('relu')(x)\n",
    "\n",
    "pred_score_map = Conv2D(1, (1, 1), activation=tf.nn.sigmoid, name='pred_score_map')(x)\n",
    "#rbox_geo_map, angle_map has been removed for simplicity\n",
    "\n",
    "model = Model(inputs=input_image, outputs=pred_score_map)"
   ]
  },
  {
   "cell_type": "code",
   "execution_count": null,
   "metadata": {
    "colab": {
     "base_uri": "https://localhost:8080/",
     "height": 121
    },
    "colab_type": "code",
    "id": "t8PA8uH7ckq3",
    "outputId": "51120926-e0bc-4434-8e1c-5eb39ccc80fa"
   },
   "outputs": [],
   "source": [
    "model.compile(loss='binary_crossentropy', optimizer='rmsprop', metrics=['accuracy'])"
   ]
  },
  {
   "cell_type": "code",
   "execution_count": null,
   "metadata": {
    "colab": {},
    "colab_type": "code",
    "id": "1h9tL8P5ckq5"
   },
   "outputs": [],
   "source": [
    "def batch_generator(imgs, bbox):\n",
    "    '''\n",
    "    Returns a random image X, label y\n",
    "    '''\n",
    "    input_size = 512\n",
    "    \n",
    "    while True:\n",
    "        idx = np.random.randint(0,len(imgs))\n",
    "\n",
    "        img = imgs[idx]\n",
    "        polys = bbox[idx]\n",
    "\n",
    "        img, polys = crop_area(img, np.array(polys), max_tries=50)                    #cropping\n",
    "        img, shift_h, shift_w = pad_image(img, input_size)                            #padding\n",
    "        img, polys = resize_image(img, polys, input_size, shift_h, shift_w)           #resizing\n",
    "        polys = polys.tolist()\n",
    "        img = rescale_image(img)                                                      #rescaling\n",
    "        label = labels(img, polys)\n",
    "\n",
    "        print(img.shape, label.shape)\n",
    "        p,q,r = img.shape\n",
    "        a,b,c = label.shape\n",
    "        img = np.reshape(img,(1,p,q,r))\n",
    "        label = np.reshape(label,(1,a,b,c))\n",
    "        print(img.shape, label.shape)\n",
    "\n",
    "        yield img, label"
   ]
  },
  {
   "cell_type": "code",
   "execution_count": null,
   "metadata": {
    "colab": {},
    "colab_type": "code",
    "id": "f5L5KKzAckq7"
   },
   "outputs": [],
   "source": [
    "train_gen = batch_generator(imgs, bbox)"
   ]
  },
  {
   "cell_type": "code",
   "execution_count": null,
   "metadata": {
    "colab": {
     "base_uri": "https://localhost:8080/",
     "height": 638
    },
    "colab_type": "code",
    "id": "-xAoLT4Vckq-",
    "outputId": "ed502dae-7acc-4593-b7b7-cfce15a7c385"
   },
   "outputs": [],
   "source": [
    "model.fit_generator(train_gen, steps_per_epoch=6, epochs=1, verbose=1)"
   ]
  }
 ],
 "metadata": {
  "accelerator": "GPU",
  "colab": {
   "collapsed_sections": [],
   "name": "improved_1_colab.ipynb",
   "provenance": [],
   "toc_visible": true,
   "version": "0.3.2"
  }
 },
 "nbformat": 4,
 "nbformat_minor": 0
}
